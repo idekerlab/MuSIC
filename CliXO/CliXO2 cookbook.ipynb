{
 "cells": [
  {
   "cell_type": "markdown",
   "metadata": {},
   "source": [
    "CliXO is an algorithm that is supposed to build an ontology/hierarchy of objects (see Kramer et al, Bioinformatics, 2014) taken a weighted network, in which the edge weights represent the similarity between objects. However, the original algorithm (https://github.com/mhk7/clixo_0.3) has several defects, and generates hierarchical model with undesired artefacts. We have redesigned the algorithm, which we call CliXO 2 here, and the algorithm has notable improvements in carefully conducted benchmarks. Here we report the results.  "
   ]
  },
  {
   "cell_type": "code",
   "execution_count": null,
   "metadata": {},
   "outputs": [],
   "source": [
    "wd = ''"
   ]
  },
  {
   "cell_type": "code",
   "execution_count": null,
   "metadata": {},
   "outputs": [],
   "source": [
    "path_clixo_old = ''\n",
    "path_clixo_new = ''"
   ]
  },
  {
   "cell_type": "markdown",
   "metadata": {},
   "source": [
    "# Reconstruction of an ontology from Resnik semantic similarity"
   ]
  },
  {
   "cell_type": "markdown",
   "metadata": {},
   "source": [
    "We take the DNA repair subtree (GO:0006281) from the Gene Ontology (biological process), and calculated the Resnik semantic similarity. We added Gaussian noise $|(N(0,0.05)|$ to the input similarity to test algorithm robustness. CliXO 2 has a notable improvement over CliXO 0.3 in terms of the quality of the reconstruction."
   ]
  },
  {
   "cell_type": "markdown",
   "metadata": {},
   "source": [
    "# Robustness"
   ]
  },
  {
   "cell_type": "code",
   "execution_count": null,
   "metadata": {},
   "outputs": [],
   "source": []
  },
  {
   "cell_type": "markdown",
   "metadata": {},
   "source": [
    "# Multi-scale controllabillity"
   ]
  },
  {
   "cell_type": "markdown",
   "metadata": {},
   "source": [
    "# Interactive HiView sessions"
   ]
  }
 ],
 "metadata": {
  "kernelspec": {
   "display_name": "Python 2",
   "language": "python",
   "name": "python2"
  },
  "language_info": {
   "codemirror_mode": {
    "name": "ipython",
    "version": 2
   },
   "file_extension": ".py",
   "mimetype": "text/x-python",
   "name": "python",
   "nbconvert_exporter": "python",
   "pygments_lexer": "ipython2",
   "version": "2.7.14"
  }
 },
 "nbformat": 4,
 "nbformat_minor": 2
}
