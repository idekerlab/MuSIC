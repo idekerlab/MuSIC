{
 "cells": [
  {
   "cell_type": "markdown",
   "metadata": {},
   "source": [
    "# Step-by-step guide to build MuSIC v1\n",
    "\n",
    "Before starting, please install relevant packages following guidelines in the **Dependency** section of GitHub README."
   ]
  },
  {
   "cell_type": "markdown",
   "metadata": {},
   "source": [
    "## Step 1. Data embeddings\n",
    "\n",
    "We here provide the 1024-dimension embeddings for the 1,451 images and the 661 proteins used in MuSIC v1. The MuSIC pipeline can handle any number of data types (e.g. IF, APMS, etc.) and any dimension of protein embeddings (i.e. length of feature vector), but all proteins need to have same number of dimension within each individual data type, and we recommend keeping consistent number of dimensions among different types of data. \n",
    "\n",
    "For customized embedding files, please format file to match the style in the example embedding files:\n",
    "- First column: embedding index\n",
    "- Second column: gene name\n",
    "- Following columns: each column is one entry in the embedding vector\n",
    "- Comma separate all columns"
   ]
  },
  {
   "cell_type": "code",
   "execution_count": 1,
   "metadata": {},
   "outputs": [],
   "source": [
    "import pandas as pd\n",
    "IF_emd = pd.read_csv('./Examples/IF_image_embedding.csv', header=None)\n",
    "APMS_emd = pd.read_csv('./Examples/APMS_embedding.MuSIC.csv', header=None)"
   ]
  },
  {
   "cell_type": "code",
   "execution_count": 2,
   "metadata": {},
   "outputs": [
    {
     "data": {
      "text/html": [
       "<div>\n",
       "<style scoped>\n",
       "    .dataframe tbody tr th:only-of-type {\n",
       "        vertical-align: middle;\n",
       "    }\n",
       "\n",
       "    .dataframe tbody tr th {\n",
       "        vertical-align: top;\n",
       "    }\n",
       "\n",
       "    .dataframe thead th {\n",
       "        text-align: right;\n",
       "    }\n",
       "</style>\n",
       "<table border=\"1\" class=\"dataframe\">\n",
       "  <thead>\n",
       "    <tr style=\"text-align: right;\">\n",
       "      <th></th>\n",
       "      <th>0</th>\n",
       "      <th>1</th>\n",
       "      <th>2</th>\n",
       "      <th>3</th>\n",
       "      <th>4</th>\n",
       "      <th>5</th>\n",
       "      <th>6</th>\n",
       "      <th>7</th>\n",
       "      <th>8</th>\n",
       "      <th>9</th>\n",
       "      <th>...</th>\n",
       "      <th>1016</th>\n",
       "      <th>1017</th>\n",
       "      <th>1018</th>\n",
       "      <th>1019</th>\n",
       "      <th>1020</th>\n",
       "      <th>1021</th>\n",
       "      <th>1022</th>\n",
       "      <th>1023</th>\n",
       "      <th>1024</th>\n",
       "      <th>1025</th>\n",
       "    </tr>\n",
       "  </thead>\n",
       "  <tbody>\n",
       "    <tr>\n",
       "      <th>0</th>\n",
       "      <td>IF_1</td>\n",
       "      <td>HLA-DPA1</td>\n",
       "      <td>0.022881</td>\n",
       "      <td>-0.060293</td>\n",
       "      <td>-0.140246</td>\n",
       "      <td>0.037648</td>\n",
       "      <td>0.009863</td>\n",
       "      <td>0.292151</td>\n",
       "      <td>-0.042231</td>\n",
       "      <td>0.020537</td>\n",
       "      <td>...</td>\n",
       "      <td>-0.036327</td>\n",
       "      <td>0.166945</td>\n",
       "      <td>0.023639</td>\n",
       "      <td>0.601420</td>\n",
       "      <td>-0.078425</td>\n",
       "      <td>0.192180</td>\n",
       "      <td>0.011603</td>\n",
       "      <td>0.031387</td>\n",
       "      <td>-0.029221</td>\n",
       "      <td>0.23038</td>\n",
       "    </tr>\n",
       "    <tr>\n",
       "      <th>1</th>\n",
       "      <td>IF_2</td>\n",
       "      <td>HLA-DPA1</td>\n",
       "      <td>0.022881</td>\n",
       "      <td>-0.113740</td>\n",
       "      <td>-0.140246</td>\n",
       "      <td>0.032609</td>\n",
       "      <td>0.191921</td>\n",
       "      <td>0.401565</td>\n",
       "      <td>-0.042231</td>\n",
       "      <td>0.027777</td>\n",
       "      <td>...</td>\n",
       "      <td>-0.129697</td>\n",
       "      <td>0.103786</td>\n",
       "      <td>0.023639</td>\n",
       "      <td>0.654706</td>\n",
       "      <td>-0.078425</td>\n",
       "      <td>0.156273</td>\n",
       "      <td>0.011603</td>\n",
       "      <td>0.031387</td>\n",
       "      <td>-0.001136</td>\n",
       "      <td>0.20808</td>\n",
       "    </tr>\n",
       "  </tbody>\n",
       "</table>\n",
       "<p>2 rows × 1026 columns</p>\n",
       "</div>"
      ],
      "text/plain": [
       "   0         1         2         3         4         5         6         7     \\\n",
       "0  IF_1  HLA-DPA1  0.022881 -0.060293 -0.140246  0.037648  0.009863  0.292151   \n",
       "1  IF_2  HLA-DPA1  0.022881 -0.113740 -0.140246  0.032609  0.191921  0.401565   \n",
       "\n",
       "       8         9     ...      1016      1017      1018      1019      1020  \\\n",
       "0 -0.042231  0.020537  ... -0.036327  0.166945  0.023639  0.601420 -0.078425   \n",
       "1 -0.042231  0.027777  ... -0.129697  0.103786  0.023639  0.654706 -0.078425   \n",
       "\n",
       "       1021      1022      1023      1024     1025  \n",
       "0  0.192180  0.011603  0.031387 -0.029221  0.23038  \n",
       "1  0.156273  0.011603  0.031387 -0.001136  0.20808  \n",
       "\n",
       "[2 rows x 1026 columns]"
      ]
     },
     "execution_count": 2,
     "metadata": {},
     "output_type": "execute_result"
    }
   ],
   "source": [
    "IF_emd.head(2)"
   ]
  },
  {
   "cell_type": "code",
   "execution_count": 3,
   "metadata": {},
   "outputs": [
    {
     "data": {
      "text/html": [
       "<div>\n",
       "<style scoped>\n",
       "    .dataframe tbody tr th:only-of-type {\n",
       "        vertical-align: middle;\n",
       "    }\n",
       "\n",
       "    .dataframe tbody tr th {\n",
       "        vertical-align: top;\n",
       "    }\n",
       "\n",
       "    .dataframe thead th {\n",
       "        text-align: right;\n",
       "    }\n",
       "</style>\n",
       "<table border=\"1\" class=\"dataframe\">\n",
       "  <thead>\n",
       "    <tr style=\"text-align: right;\">\n",
       "      <th></th>\n",
       "      <th>0</th>\n",
       "      <th>1</th>\n",
       "      <th>2</th>\n",
       "      <th>3</th>\n",
       "      <th>4</th>\n",
       "      <th>5</th>\n",
       "      <th>6</th>\n",
       "      <th>7</th>\n",
       "      <th>8</th>\n",
       "      <th>9</th>\n",
       "      <th>...</th>\n",
       "      <th>1016</th>\n",
       "      <th>1017</th>\n",
       "      <th>1018</th>\n",
       "      <th>1019</th>\n",
       "      <th>1020</th>\n",
       "      <th>1021</th>\n",
       "      <th>1022</th>\n",
       "      <th>1023</th>\n",
       "      <th>1024</th>\n",
       "      <th>1025</th>\n",
       "    </tr>\n",
       "  </thead>\n",
       "  <tbody>\n",
       "    <tr>\n",
       "      <th>0</th>\n",
       "      <td>APMS_1</td>\n",
       "      <td>RRS1</td>\n",
       "      <td>0.075910</td>\n",
       "      <td>0.161315</td>\n",
       "      <td>-0.025731</td>\n",
       "      <td>0.071347</td>\n",
       "      <td>-0.175898</td>\n",
       "      <td>0.041408</td>\n",
       "      <td>-0.061304</td>\n",
       "      <td>-0.136247</td>\n",
       "      <td>...</td>\n",
       "      <td>-0.052199</td>\n",
       "      <td>-0.018137</td>\n",
       "      <td>0.042997</td>\n",
       "      <td>0.246699</td>\n",
       "      <td>-0.043538</td>\n",
       "      <td>0.016049</td>\n",
       "      <td>-0.147477</td>\n",
       "      <td>-0.049635</td>\n",
       "      <td>-0.001222</td>\n",
       "      <td>-0.172205</td>\n",
       "    </tr>\n",
       "    <tr>\n",
       "      <th>1</th>\n",
       "      <td>APMS_2</td>\n",
       "      <td>SNRNP70</td>\n",
       "      <td>-0.019872</td>\n",
       "      <td>0.083736</td>\n",
       "      <td>0.151332</td>\n",
       "      <td>0.080374</td>\n",
       "      <td>-0.053558</td>\n",
       "      <td>0.067913</td>\n",
       "      <td>-0.057474</td>\n",
       "      <td>-0.114813</td>\n",
       "      <td>...</td>\n",
       "      <td>-0.014049</td>\n",
       "      <td>-0.154981</td>\n",
       "      <td>-0.187242</td>\n",
       "      <td>-0.082924</td>\n",
       "      <td>-0.089952</td>\n",
       "      <td>-0.091610</td>\n",
       "      <td>-0.051024</td>\n",
       "      <td>-0.005062</td>\n",
       "      <td>-0.170704</td>\n",
       "      <td>0.042429</td>\n",
       "    </tr>\n",
       "  </tbody>\n",
       "</table>\n",
       "<p>2 rows × 1026 columns</p>\n",
       "</div>"
      ],
      "text/plain": [
       "     0        1         2         3         4         5         6     \\\n",
       "0  APMS_1     RRS1  0.075910  0.161315 -0.025731  0.071347 -0.175898   \n",
       "1  APMS_2  SNRNP70 -0.019872  0.083736  0.151332  0.080374 -0.053558   \n",
       "\n",
       "       7         8         9     ...      1016      1017      1018      1019  \\\n",
       "0  0.041408 -0.061304 -0.136247  ... -0.052199 -0.018137  0.042997  0.246699   \n",
       "1  0.067913 -0.057474 -0.114813  ... -0.014049 -0.154981 -0.187242 -0.082924   \n",
       "\n",
       "       1020      1021      1022      1023      1024      1025  \n",
       "0 -0.043538  0.016049 -0.147477 -0.049635 -0.001222 -0.172205  \n",
       "1 -0.089952 -0.091610 -0.051024 -0.005062 -0.170704  0.042429  \n",
       "\n",
       "[2 rows x 1026 columns]"
      ]
     },
     "execution_count": 3,
     "metadata": {},
     "output_type": "execute_result"
    }
   ],
   "source": [
    "APMS_emd.head(2)"
   ]
  },
  {
   "cell_type": "markdown",
   "metadata": {},
   "source": [
    "## Step 2. Calibrate protein-protein distance and proximity from Gene Ontology"
   ]
  },
  {
   "cell_type": "code",
   "execution_count": null,
   "metadata": {
    "scrolled": false
   },
   "outputs": [],
   "source": [
    "%%bash\n",
    "python calibrate_pairwise_distance.py \\\n",
    "--protein_file ./Examples/MuSIC_proteins.txt \\\n",
    "--outprefix ./Examples/output/test"
   ]
  },
  {
   "cell_type": "markdown",
   "metadata": {
    "collapsed": true
   },
   "source": [
    "## Step 3. Random forest prediction of protein distances\n",
    "\n",
    "Each random forest regressor in the original MuSIC study was trained with ~1M samples consisted of 2060 input features, requiring ~1 day and >100 Gb memory with 24 threads. As a demo, code below will generate two set of embeddings for image embeddings (MuSIC used six) and create 1000 samples for training."
   ]
  },
  {
   "cell_type": "code",
   "execution_count": null,
   "metadata": {
    "scrolled": false
   },
   "outputs": [],
   "source": [
    "%%bash\n",
    "python random_forest_samples.py \\\n",
    "--outprefix ./Examples/output/test \\\n",
    "--protein_file ./Examples/MuSIC_proteins.txt \\\n",
    "--emd_files ./Examples/IF_image_embedding.csv ./Examples/APMS_embedding.MuSIC.csv \\\n",
    "--emd_label IF_emd APMS_emd \\\n",
    "--num_set 2 auto \\\n",
    "--n_samples 1000 "
   ]
  },
  {
   "cell_type": "code",
   "execution_count": null,
   "metadata": {
    "scrolled": true
   },
   "outputs": [],
   "source": [
    "%%bash\n",
    "for ((fold = 1; fold <= 5; fold++))\n",
    "do\n",
    "    for ((IF_set = 1; IF_set <= 2; IF_set++))\n",
    "    do\n",
    "        python run_random_forest.py \\\n",
    "        --outprefix ./Examples/output/test \\\n",
    "        --fold $fold \\\n",
    "        --emd_label IF_emd APMS_emd \\\n",
    "        --train_set $IF_set 1 \\\n",
    "        --n_jobs 60;\n",
    "    done\n",
    "done"
   ]
  },
  {
   "cell_type": "code",
   "execution_count": null,
   "metadata": {},
   "outputs": [],
   "source": [
    "%%bash\n",
    "python random_forest_output.py --outprefix ./Examples/output/test"
   ]
  },
  {
   "cell_type": "markdown",
   "metadata": {},
   "source": [
    "The predicted protein-protein proximity for all pairs of the given protein is saved in **$outprefix_predicted_proximity.txt** file. "
   ]
  },
  {
   "cell_type": "markdown",
   "metadata": {
    "collapsed": true
   },
   "source": [
    "## Step 4. Pan-resolution community detection\n",
    "\n",
    "To perform pan-resolution community detection as in MuSIC, please install:\n",
    "- [CliXO v1.0](https://github.com/fanzheng10/CliXO-1.0)\n",
    "- [DDOT](https://github.com/michaelkyu/ddot)\n",
    "\t- **Note:** the dependencies are already satisfied, but users need to **follow instructions in section *Install the ddot Python package*** to complete installation. \n",
    "- [alignOntology](https://github.com/mhk7/alignOntology)\n",
    "\t- **Note:** DDOT has alignOntology in `/ddot/alignOntology` folder. If user has trouble installing  alignOntology from GitHub, user can use path to alignOntology in DDOT for the `--path_to_alignOntology` parameter in the community detection section.\n"
   ]
  },
  {
   "cell_type": "code",
   "execution_count": null,
   "metadata": {},
   "outputs": [],
   "source": [
    "%%bash\n",
    "# Because results from step 3 are only for demo, well-trained data are provided to reproduce MuSIC in step 4.\n",
    "cp ./Examples/MuSIC_predicted_proximity.txt ./Examples/output/test_predicted_proximity.txt\n",
    "cp ./Examples/MuSIC_avgPred_ytrue.csv ./Examples/output/test_avgPred_ytrue.csv"
   ]
  },
  {
   "cell_type": "code",
   "execution_count": null,
   "metadata": {
    "scrolled": true
   },
   "outputs": [],
   "source": [
    "%%bash\n",
    "python community_detection.py \\\n",
    "--outprefix ./Examples/output/test \\\n",
    "--path_to_clixo /cellar/users/y8qin/Modules/CliXO \\\n",
    "--clixo_i ./Examples/output/test_predicted_proximity.txt \\\n",
    "--clixo_a 0.01 --clixo_b 0.5 --clixo_m 0.008 --clixo_z 0.05 --min_diff 2 \\\n",
    "--path_to_alignOntology /cellar/users/y8qin/Modules/alignOntology-master \\\n",
    "--predict_nm_size --keep_all_files\n",
    "\n",
    "# Note that CliXO can take ~7 hours for MuSIC. It's recommended to run the below command line in background\n",
    "bash /cellar/users/y8qin/Data2/deepLoc/MuSIC/Examples/output/test.sh"
   ]
  },
  {
   "cell_type": "code",
   "execution_count": null,
   "metadata": {},
   "outputs": [],
   "source": []
  }
 ],
 "metadata": {
  "kernelspec": {
   "display_name": "anaconda",
   "language": "python",
   "name": "anaconda"
  },
  "language_info": {
   "codemirror_mode": {
    "name": "ipython",
    "version": 3
   },
   "file_extension": ".py",
   "mimetype": "text/x-python",
   "name": "python",
   "nbconvert_exporter": "python",
   "pygments_lexer": "ipython3",
   "version": "3.6.5"
  }
 },
 "nbformat": 4,
 "nbformat_minor": 2
}
